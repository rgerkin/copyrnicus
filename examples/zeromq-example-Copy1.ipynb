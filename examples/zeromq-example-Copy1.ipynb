{
 "cells": [
  {
   "cell_type": "markdown",
   "metadata": {},
   "source": [
    "After running zeromq_init() in Igor..."
   ]
  },
  {
   "cell_type": "code",
   "execution_count": 25,
   "metadata": {},
   "outputs": [],
   "source": [
    "import json # Built-in Python serialization library\n",
    "import zmq # The Python bindings for ZeroMQ\n",
    "\n",
    "context = zmq.Context() # Create a new ZeroMQ context\n",
    "socket = context.socket(zmq.REQ) # Make it act as a client\n",
    "socket.connect(\"tcp://127.0.0.1:5555\") # Connect to the server at this IP and port\n",
    "\n",
    "func_name = \"ZeroMQ_ShowHelp\" # The name of the Igor function we want to call\n",
    "func_params = [\"GetDimLabel\"] # The arguments to that function\n",
    "# A command sent over a ZeroMQ socket to call a function\n",
    "command = {\"version\": 1, # Version of the protocol\n",
    "           \"CallFunction\": # The action to do (call an Igor function)\n",
    "                {\"name\": func_name, # The name of the Igor function\n",
    "                 \"params\": func_params} # The arguments to that function\n",
    "          }\n",
    "command_str = json.dumps(command) # JSONify it\n",
    "socket.send_string(command_str) # Send that command over the socket to Igor"
   ]
  },
  {
   "cell_type": "code",
   "execution_count": 62,
   "metadata": {},
   "outputs": [],
   "source": [
    "def zmq_py_init():\n",
    "    context = zmq.Context() # Create a new ZeroMQ context\n",
    "    socket = context.socket(zmq.REQ) # Make it act as a client\n",
    "    socket.connect(\"tcp://127.0.0.1:5555\") # Connect to the server at this IP and port\n",
    "    return(socket)"
   ]
  },
  {
   "cell_type": "code",
   "execution_count": 63,
   "metadata": {},
   "outputs": [],
   "source": [
    "def zmq_send_command(func_name, func_params, socket):\n",
    "    # A command sent over a ZeroMQ socket to call a function\n",
    "    command = {\"version\": 1, # Version of the protocol\n",
    "               \"CallFunction\": # The action to do (call an Igor function)\n",
    "                    {\"name\": func_name, # The name of the Igor function\n",
    "                     \"params\": func_params} # The arguments to that function\n",
    "              }\n",
    "    command_str = json.dumps(command) # JSONify it\n",
    "    socket = zmq_py_init()\n",
    "    socket.send_string(command_str) # Send that command over the socket to Igor"
   ]
  },
  {
   "cell_type": "code",
   "execution_count": 65,
   "metadata": {},
   "outputs": [],
   "source": [
    "func_name = \"ZeroMQ_ShowHelp\" # The name of the Igor function we want to call\n",
    "func_params = [\"GetDimLabel\"] # The arguments to that function\n",
    "\n",
    "zmq_send_command(func_name, func_params, socket)"
   ]
  }
 ],
 "metadata": {
  "kernelspec": {
   "display_name": "Python 3",
   "language": "python",
   "name": "python3"
  },
  "language_info": {
   "codemirror_mode": {
    "name": "ipython",
    "version": 3
   },
   "file_extension": ".py",
   "mimetype": "text/x-python",
   "name": "python",
   "nbconvert_exporter": "python",
   "pygments_lexer": "ipython3",
   "version": "3.8.5"
  }
 },
 "nbformat": 4,
 "nbformat_minor": 4
}
